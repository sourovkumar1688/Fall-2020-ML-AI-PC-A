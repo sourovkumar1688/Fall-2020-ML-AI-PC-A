{
  "nbformat": 4,
  "nbformat_minor": 0,
  "metadata": {
    "colab": {
      "name": "Week1_NoteBook-2_Python_Code.ipynb",
      "provenance": [],
      "authorship_tag": "ABX9TyPpldYZwWSCDuTrENn7/RWP",
      "include_colab_link": true
    },
    "kernelspec": {
      "name": "python3",
      "display_name": "Python 3"
    }
  },
  "cells": [
    {
      "cell_type": "markdown",
      "metadata": {
        "id": "view-in-github",
        "colab_type": "text"
      },
      "source": [
        "<a href=\"https://colab.research.google.com/github/sourovkumar1688/Fall-2020-ML-AI-PC-A/blob/master/Week1_NoteBook_2_Python_Code.ipynb\" target=\"_parent\"><img src=\"https://colab.research.google.com/assets/colab-badge.svg\" alt=\"Open In Colab\"/></a>"
      ]
    },
    {
      "cell_type": "markdown",
      "metadata": {
        "id": "CpHNy66jB5he"
      },
      "source": [
        "## **IF statement**"
      ]
    },
    {
      "cell_type": "code",
      "metadata": {
        "id": "Ky5IK-aOCPmE",
        "outputId": "86c6576c-d4bc-4388-b89c-c84f114459a6",
        "colab": {
          "base_uri": "https://localhost:8080/",
          "height": 51
        }
      },
      "source": [
        "grade = int(input('Enter the number: '))\n",
        "if grade>=40:\n",
        "  print(\"passed\")\n",
        "if grade<=40:\n",
        "  print(\"Failed\")\n"
      ],
      "execution_count": null,
      "outputs": [
        {
          "output_type": "stream",
          "text": [
            "Enter the number: 82\n",
            "passed\n"
          ],
          "name": "stdout"
        }
      ]
    },
    {
      "cell_type": "markdown",
      "metadata": {
        "id": "oOU4Dw9CEBnc"
      },
      "source": [
        "# **If else statement**\n"
      ]
    },
    {
      "cell_type": "code",
      "metadata": {
        "id": "TVsDyzufETmN",
        "outputId": "38eeb860-5f88-488f-b38f-39d519824703",
        "colab": {
          "base_uri": "https://localhost:8080/",
          "height": 51
        }
      },
      "source": [
        "grade = int(input('Enter the number: '))\n",
        "if grade>=40:\n",
        "  print(\"passed\")\n",
        "else:\n",
        "  print(\"Failed\")"
      ],
      "execution_count": null,
      "outputs": [
        {
          "output_type": "stream",
          "text": [
            "Enter the number: 56\n",
            "passed\n"
          ],
          "name": "stdout"
        }
      ]
    },
    {
      "cell_type": "markdown",
      "metadata": {
        "id": "SLkp2z3sE25z"
      },
      "source": [
        "Conditional expression"
      ]
    },
    {
      "cell_type": "code",
      "metadata": {
        "id": "kSEGmEJ8E4iL"
      },
      "source": [
        "x = ('Passed' if grade >= 40 else 'Failed')"
      ],
      "execution_count": null,
      "outputs": []
    },
    {
      "cell_type": "code",
      "metadata": {
        "id": "hvSDxCL3FK6c",
        "outputId": "e2b72d85-6ec2-475d-d3eb-2e4b77c59367",
        "colab": {
          "base_uri": "https://localhost:8080/",
          "height": 34
        }
      },
      "source": [
        "print(x)"
      ],
      "execution_count": null,
      "outputs": [
        {
          "output_type": "stream",
          "text": [
            "Passed\n"
          ],
          "name": "stdout"
        }
      ]
    },
    {
      "cell_type": "markdown",
      "metadata": {
        "id": "YH4SG5rzFe_c"
      },
      "source": [
        "# **IF...elif....else statement**"
      ]
    },
    {
      "cell_type": "code",
      "metadata": {
        "id": "OIajosTDFiE7",
        "outputId": "c492ce75-d047-4a35-d78b-e6f75ef275b9",
        "colab": {
          "base_uri": "https://localhost:8080/",
          "height": 51
        }
      },
      "source": [
        "grade = int(input('Enter the number: '))\n",
        "\n",
        "if grade >= 80:\n",
        "    print('A')\n",
        "elif grade >= 70:\n",
        "    print('B')\n",
        "elif grade >= 60:\n",
        "    print('C')\n",
        "elif grade >= 40:\n",
        "    print('D')\n",
        "else:\n",
        "    print('F')"
      ],
      "execution_count": null,
      "outputs": [
        {
          "output_type": "stream",
          "text": [
            "Enter the number: 39\n",
            "F\n"
          ],
          "name": "stdout"
        }
      ]
    },
    {
      "cell_type": "markdown",
      "metadata": {
        "id": "9XsWEeEeGybs"
      },
      "source": [
        "# **While Statement**\n"
      ]
    },
    {
      "cell_type": "code",
      "metadata": {
        "id": "afE48LKVG-Az",
        "outputId": "df476584-b9c8-4ada-f829-741400789421",
        "colab": {
          "base_uri": "https://localhost:8080/",
          "height": 102
        }
      },
      "source": [
        "i = 1\n",
        "while i < 6:\n",
        "  print(i)\n",
        "  i += 1\n"
      ],
      "execution_count": null,
      "outputs": [
        {
          "output_type": "stream",
          "text": [
            "1\n",
            "2\n",
            "3\n",
            "4\n",
            "5\n"
          ],
          "name": "stdout"
        }
      ]
    },
    {
      "cell_type": "markdown",
      "metadata": {
        "id": "3tEzULRDHI6r"
      },
      "source": [
        "while statement to find the first power of 3 larger than 50:\n"
      ]
    },
    {
      "cell_type": "code",
      "metadata": {
        "id": "q1YyQeimH0pj",
        "outputId": "de3f00d8-abf6-4f31-cf9d-9f8a61bd418e",
        "colab": {
          "base_uri": "https://localhost:8080/",
          "height": 34
        }
      },
      "source": [
        "x = 3\n",
        "while x<=50:\n",
        "  x = x * 3\n",
        "print(x)"
      ],
      "execution_count": null,
      "outputs": [
        {
          "output_type": "stream",
          "text": [
            "81\n"
          ],
          "name": "stdout"
        }
      ]
    },
    {
      "cell_type": "markdown",
      "metadata": {
        "id": "tB06wd-eIYfM"
      },
      "source": [
        "# **For statement**"
      ]
    },
    {
      "cell_type": "code",
      "metadata": {
        "id": "dV3cHmI3IsDr",
        "outputId": "d1526ede-b2a0-4ee7-8e7f-1790183da277",
        "colab": {
          "base_uri": "https://localhost:8080/",
          "height": 34
        }
      },
      "source": [
        "for i in \"sourov\":\n",
        "  print(i, end=\" \")"
      ],
      "execution_count": null,
      "outputs": [
        {
          "output_type": "stream",
          "text": [
            "s o u r o v "
          ],
          "name": "stdout"
        }
      ]
    },
    {
      "cell_type": "markdown",
      "metadata": {
        "id": "-lg28RSIJc6L"
      },
      "source": [
        "## **Built in Range Function**"
      ]
    },
    {
      "cell_type": "code",
      "metadata": {
        "id": "m1DNniYXJbLU",
        "outputId": "071c2207-8758-40c1-95d8-fed84a7bcbfa",
        "colab": {
          "base_uri": "https://localhost:8080/",
          "height": 187
        }
      },
      "source": [
        "for x in range(10):\n",
        "  print(x)"
      ],
      "execution_count": null,
      "outputs": [
        {
          "output_type": "stream",
          "text": [
            "0\n",
            "1\n",
            "2\n",
            "3\n",
            "4\n",
            "5\n",
            "6\n",
            "7\n",
            "8\n",
            "9\n"
          ],
          "name": "stdout"
        }
      ]
    },
    {
      "cell_type": "markdown",
      "metadata": {
        "id": "7GbnnQqgJr6c"
      },
      "source": [
        "Use the range function and a for statement to calculate the total of the integers from 0 through 1,000,000."
      ]
    },
    {
      "cell_type": "code",
      "metadata": {
        "id": "_9PjY8FSJtzC",
        "outputId": "bbb0994a-2ace-4ce1-f5e1-546e1e205023",
        "colab": {
          "base_uri": "https://localhost:8080/",
          "height": 34
        }
      },
      "source": [
        "total = 0\n",
        "for n in range(1000001):\n",
        "  total = total + n\n",
        "print(total)"
      ],
      "execution_count": null,
      "outputs": [
        {
          "output_type": "stream",
          "text": [
            "500000500000\n"
          ],
          "name": "stdout"
        }
      ]
    },
    {
      "cell_type": "markdown",
      "metadata": {
        "id": "Qq-Jp6odKCNL"
      },
      "source": [
        "Function range also has two- and three-argument versions. As you’ve seen, range’s one argument version produces a sequence of consecutive integers from 0 up to, but not including, the argument’s value. Function range’s two-argument version produces a sequence of consecutive integers from its first argument’s value up to, but not including, the second argument’s value, as in:"
      ]
    },
    {
      "cell_type": "code",
      "metadata": {
        "id": "_GgSqOAgKD6z",
        "outputId": "3023cd69-b52d-4f55-82b1-71b50af6120d",
        "colab": {
          "base_uri": "https://localhost:8080/",
          "height": 34
        }
      },
      "source": [
        "for n in range(10,30):\n",
        "  print(n, end=\" \")\n"
      ],
      "execution_count": null,
      "outputs": [
        {
          "output_type": "stream",
          "text": [
            "10 11 12 13 14 15 16 17 18 19 20 21 22 23 24 25 26 27 28 29 "
          ],
          "name": "stdout"
        }
      ]
    },
    {
      "cell_type": "markdown",
      "metadata": {
        "id": "tK1DLFfTKW9T"
      },
      "source": [
        "Function range’s three-argument version produces a sequence of integers from its first argument’s value up to, but not including, the second argument’s value, incrementing by the third argument’s value, which is known as the step:\n"
      ]
    },
    {
      "cell_type": "code",
      "metadata": {
        "id": "wZrX43cxKZab",
        "outputId": "0374a945-4b68-44d2-8589-c254609c6c3f",
        "colab": {
          "base_uri": "https://localhost:8080/",
          "height": 272
        }
      },
      "source": [
        "for n in range(0,30,2):\n",
        "  print(n)"
      ],
      "execution_count": null,
      "outputs": [
        {
          "output_type": "stream",
          "text": [
            "0\n",
            "2\n",
            "4\n",
            "6\n",
            "8\n",
            "10\n",
            "12\n",
            "14\n",
            "16\n",
            "18\n",
            "20\n",
            "22\n",
            "24\n",
            "26\n",
            "28\n"
          ],
          "name": "stdout"
        }
      ]
    },
    {
      "cell_type": "markdown",
      "metadata": {
        "id": "7o2dUokhKwma"
      },
      "source": [
        "If the third argument is negative, the sequence progresses from the first argument’s value down to, but not including the second argument’s value, decrementing by the third argument’s value, as in:"
      ]
    },
    {
      "cell_type": "code",
      "metadata": {
        "id": "h0xdiJhWKyGs",
        "outputId": "c028cd65-f453-4a63-d7fa-d40ee2becdf1",
        "colab": {
          "base_uri": "https://localhost:8080/",
          "height": 187
        }
      },
      "source": [
        "for n in range(30,0,-3):\n",
        "  print(n)\n",
        "  "
      ],
      "execution_count": null,
      "outputs": [
        {
          "output_type": "stream",
          "text": [
            "30\n",
            "27\n",
            "24\n",
            "21\n",
            "18\n",
            "15\n",
            "12\n",
            "9\n",
            "6\n",
            "3\n"
          ],
          "name": "stdout"
        }
      ]
    },
    {
      "cell_type": "markdown",
      "metadata": {
        "id": "yntnX-rJLKYL"
      },
      "source": [
        "# **Number table print using range function**"
      ]
    },
    {
      "cell_type": "code",
      "metadata": {
        "id": "hPbjxz9LLN4b",
        "outputId": "3e0eedb7-bef6-42f8-a6c0-18567c2b4fb9",
        "colab": {
          "base_uri": "https://localhost:8080/",
          "height": 204
        }
      },
      "source": [
        "x =  int(input('Enter the number: '))\n",
        "for i in range(1,11):\n",
        "  print(x,\"X\",i,\"=\",x*i)"
      ],
      "execution_count": null,
      "outputs": [
        {
          "output_type": "stream",
          "text": [
            "Enter the number: 11\n",
            "11 X 1 = 11\n",
            "11 X 2 = 22\n",
            "11 X 3 = 33\n",
            "11 X 4 = 44\n",
            "11 X 5 = 55\n",
            "11 X 6 = 66\n",
            "11 X 7 = 77\n",
            "11 X 8 = 88\n",
            "11 X 9 = 99\n",
            "11 X 10 = 110\n"
          ],
          "name": "stdout"
        }
      ]
    },
    {
      "cell_type": "markdown",
      "metadata": {
        "id": "txuCdbhrLyq2"
      },
      "source": [
        "**Nested For Loop**"
      ]
    },
    {
      "cell_type": "code",
      "metadata": {
        "id": "FD5CR6igL9k0",
        "outputId": "fbec9966-df32-4321-adbb-846316fdeaba",
        "colab": {
          "base_uri": "https://localhost:8080/",
          "height": 170
        }
      },
      "source": [
        "for left in range(9):\n",
        "    for right in range(left,9):\n",
        "        print(\"[\"+str(left)+\"|\"+str(right)+\"]\", end =\" \")\n",
        "    print()"
      ],
      "execution_count": null,
      "outputs": [
        {
          "output_type": "stream",
          "text": [
            "[0|0] [0|1] [0|2] [0|3] [0|4] [0|5] [0|6] [0|7] [0|8] \n",
            "[1|1] [1|2] [1|3] [1|4] [1|5] [1|6] [1|7] [1|8] \n",
            "[2|2] [2|3] [2|4] [2|5] [2|6] [2|7] [2|8] \n",
            "[3|3] [3|4] [3|5] [3|6] [3|7] [3|8] \n",
            "[4|4] [4|5] [4|6] [4|7] [4|8] \n",
            "[5|5] [5|6] [5|7] [5|8] \n",
            "[6|6] [6|7] [6|8] \n",
            "[7|7] [7|8] \n",
            "[8|8] \n"
          ],
          "name": "stdout"
        }
      ]
    },
    {
      "cell_type": "markdown",
      "metadata": {
        "id": "FZmh-vqMMTHC"
      },
      "source": [
        "**Break statement**"
      ]
    },
    {
      "cell_type": "code",
      "metadata": {
        "id": "LkZpDY8uMVwK",
        "outputId": "f79bb705-b0e9-4da8-b2d3-efb647c20bc3",
        "colab": {
          "base_uri": "https://localhost:8080/",
          "height": 272
        }
      },
      "source": [
        "for x in range(20):\n",
        "  if  x==15:\n",
        "    break\n",
        "  print(x)\n",
        "    "
      ],
      "execution_count": null,
      "outputs": [
        {
          "output_type": "stream",
          "text": [
            "0\n",
            "1\n",
            "2\n",
            "3\n",
            "4\n",
            "5\n",
            "6\n",
            "7\n",
            "8\n",
            "9\n",
            "10\n",
            "11\n",
            "12\n",
            "13\n",
            "14\n"
          ],
          "name": "stdout"
        }
      ]
    },
    {
      "cell_type": "markdown",
      "metadata": {
        "id": "MZk90jNjMrjb"
      },
      "source": [
        "**Continue statement**"
      ]
    },
    {
      "cell_type": "code",
      "metadata": {
        "id": "BTrwN8iHM5eD",
        "outputId": "30eb3f04-a2b7-45ac-83b3-d26a2cb27e94",
        "colab": {
          "base_uri": "https://localhost:8080/",
          "height": 340
        }
      },
      "source": [
        "for x in range(20):\n",
        "  if  x==15:\n",
        "    continue\n",
        "  print(x)"
      ],
      "execution_count": null,
      "outputs": [
        {
          "output_type": "stream",
          "text": [
            "0\n",
            "1\n",
            "2\n",
            "3\n",
            "4\n",
            "5\n",
            "6\n",
            "7\n",
            "8\n",
            "9\n",
            "10\n",
            "11\n",
            "12\n",
            "13\n",
            "14\n",
            "16\n",
            "17\n",
            "18\n",
            "19\n"
          ],
          "name": "stdout"
        }
      ]
    },
    {
      "cell_type": "markdown",
      "metadata": {
        "id": "f9r1iEFpNOnS"
      },
      "source": [
        "# **Beginner Problem solving from Uri Online Judge**"
      ]
    },
    {
      "cell_type": "markdown",
      "metadata": {
        "id": "DRmI2cuONXmy"
      },
      "source": [
        "# **1. Extremely Basic**"
      ]
    },
    {
      "cell_type": "code",
      "metadata": {
        "id": "upY0P-kSCBJ1",
        "outputId": "108c031f-89fa-4821-af3d-1dc653c86bc7",
        "colab": {
          "base_uri": "https://localhost:8080/",
          "height": 68
        }
      },
      "source": [
        "x = int(input())\n",
        "y = int(input())\n",
        "z = x + y\n",
        "print('x =',z)\n"
      ],
      "execution_count": null,
      "outputs": [
        {
          "output_type": "stream",
          "text": [
            "-10\n",
            "4\n",
            "x = -6\n"
          ],
          "name": "stdout"
        }
      ]
    },
    {
      "cell_type": "markdown",
      "metadata": {
        "id": "NurHLkrbNpbi"
      },
      "source": [
        "# **2. Area of a Circle**"
      ]
    },
    {
      "cell_type": "code",
      "metadata": {
        "id": "G6QriWy5NxqX",
        "outputId": "0de76503-8bb9-4f9f-8a15-66d8ef23c2e5",
        "colab": {
          "base_uri": "https://localhost:8080/",
          "height": 51
        }
      },
      "source": [
        "r = float(input())\n",
        "\n",
        "area = 3.14159 * r ** 2\n",
        "print('A=',area)"
      ],
      "execution_count": null,
      "outputs": [
        {
          "output_type": "stream",
          "text": [
            "150.00\n",
            "A= 70685.775\n"
          ],
          "name": "stdout"
        }
      ]
    },
    {
      "cell_type": "markdown",
      "metadata": {
        "id": "BxcdO0CkRxw9"
      },
      "source": [
        "# **3. Difference**\n"
      ]
    },
    {
      "cell_type": "code",
      "metadata": {
        "id": "kINM7SLIOUqO",
        "outputId": "e7bfacab-4c98-480f-cb5f-9020ec6ac040",
        "colab": {
          "base_uri": "https://localhost:8080/",
          "height": 102
        }
      },
      "source": [
        "a = int(input())\n",
        "b = int(input())\n",
        "c = int(input())\n",
        "d = int(input())\n",
        "\n",
        "multi = (a * b - c * d)\n",
        "print(\"DIFERENCA =\",multi)\n"
      ],
      "execution_count": null,
      "outputs": [
        {
          "output_type": "stream",
          "text": [
            "5\n",
            "6\n",
            "7\n",
            "8\n",
            "DIFERENCA = -26\n"
          ],
          "name": "stdout"
        }
      ]
    },
    {
      "cell_type": "markdown",
      "metadata": {
        "id": "x25r_ugSTkJZ"
      },
      "source": [
        "# **4. Age in Days**"
      ]
    },
    {
      "cell_type": "code",
      "metadata": {
        "id": "yNbj3s3TS-WC",
        "outputId": "9026b4ad-9a71-4b9f-aee4-3dcdf7b509da",
        "colab": {
          "base_uri": "https://localhost:8080/",
          "height": 85
        }
      },
      "source": [
        "n = int(input())\n",
        "y=n/365\n",
        "m=(n%365)/30\n",
        "d=(n%365)%30\n",
        "print(int(y),\"ano(s)\")\n",
        "print(int(m),\"mes(es)\")\n",
        "print(int(d),\"dia(s)\")"
      ],
      "execution_count": null,
      "outputs": [
        {
          "output_type": "stream",
          "text": [
            "800\n",
            "2 ano(s)\n",
            "2 mes(es)\n",
            "10 dia(s)\n"
          ],
          "name": "stdout"
        }
      ]
    },
    {
      "cell_type": "code",
      "metadata": {
        "id": "KZtIYuhWUmFV"
      },
      "source": [
        ""
      ],
      "execution_count": null,
      "outputs": []
    }
  ]
}