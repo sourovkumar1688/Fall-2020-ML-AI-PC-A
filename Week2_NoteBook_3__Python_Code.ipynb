{
  "nbformat": 4,
  "nbformat_minor": 0,
  "metadata": {
    "colab": {
      "name": "Week2_NoteBook-3_  Python_Code.ipynb",
      "provenance": [],
      "authorship_tag": "ABX9TyPmpe+J8wQ3zjLLpRi/9QFq",
      "include_colab_link": true
    },
    "kernelspec": {
      "name": "python3",
      "display_name": "Python 3"
    }
  },
  "cells": [
    {
      "cell_type": "markdown",
      "metadata": {
        "id": "view-in-github",
        "colab_type": "text"
      },
      "source": [
        "<a href=\"https://colab.research.google.com/github/sourovkumar1688/Fall-2020-ML-AI-PC-A/blob/master/Week2_NoteBook_3__Python_Code.ipynb\" target=\"_parent\"><img src=\"https://colab.research.google.com/assets/colab-badge.svg\" alt=\"Open In Colab\"/></a>"
      ]
    },
    {
      "cell_type": "markdown",
      "metadata": {
        "id": "eV4SwCzmMsi9"
      },
      "source": [
        "# **#built-in functions**"
      ]
    },
    {
      "cell_type": "code",
      "metadata": {
        "id": "hWpGeVc9M0f8",
        "outputId": "19113b7c-899f-406e-dce8-dd12d1965445",
        "colab": {
          "base_uri": "https://localhost:8080/",
          "height": 136
        }
      },
      "source": [
        "print(\"Hi, I am Ron. Do you miss me?\")\n",
        "print(\"Let me know if you miss me or not. \")\n",
        "w = input()\n",
        "\n",
        "x = 30\n",
        "y = 16\n",
        "print(max(x,y))\n",
        "print(min(x,y))\n",
        "\n",
        "z = 20.43\n",
        "d = int(z)\n",
        "print(d)\n",
        "\n",
        "a = \"python\"\n",
        "print(type(a))\n"
      ],
      "execution_count": null,
      "outputs": [
        {
          "output_type": "stream",
          "text": [
            "Hi, I am Ron. Do you miss me?\n",
            "Let me know if you miss me or not. \n",
            "yes, I miss you.\n",
            "30\n",
            "16\n",
            "20\n",
            "<class 'str'>\n"
          ],
          "name": "stdout"
        }
      ]
    },
    {
      "cell_type": "markdown",
      "metadata": {
        "id": "K5Qs-mqJNqTF"
      },
      "source": [
        "# **#user defined function**"
      ]
    },
    {
      "cell_type": "code",
      "metadata": {
        "id": "h4LmdYk9NbBO",
        "outputId": "02594428-9fa0-4755-c551-f036af1475ee",
        "colab": {
          "base_uri": "https://localhost:8080/",
          "height": 68
        }
      },
      "source": [
        "def add(x,y):\n",
        "  z = x+y\n",
        "  return z\n",
        "\n",
        "x = int(input(\"Enter the number: \"))\n",
        "y = int(input(\"Enter the number: \"))\n",
        "a = add(x,y)\n",
        "print(\"The sum is\", a)"
      ],
      "execution_count": null,
      "outputs": [
        {
          "output_type": "stream",
          "text": [
            "Enter the number: 33\n",
            "Enter the number: 55\n",
            "The sum is 88\n"
          ],
          "name": "stdout"
        }
      ]
    },
    {
      "cell_type": "markdown",
      "metadata": {
        "id": "7OiUxyauOwit"
      },
      "source": [
        "## **#function with multiple parameters**"
      ]
    },
    {
      "cell_type": "code",
      "metadata": {
        "id": "y0xCcN08OfM3",
        "outputId": "f5339fe9-a4f5-4340-a1f3-d0db89a1061e",
        "colab": {
          "base_uri": "https://localhost:8080/",
          "height": 85
        }
      },
      "source": [
        "def divisor(a,b,c):\n",
        "    if a%c==0 and b%c==0:\n",
        "        print(\"%d & %d are divisible by %d\"%(a,b,c))\n",
        "    elif a%c==0:\n",
        "        print(\"only %d is divisible by %d\"%(a,c))\n",
        "    elif b%c==0:\n",
        "        print(\"only %d is divisible by %d\"%(b,c))\n",
        "    else:\n",
        "        print(\"none of %d & %d is divisible by %d\"%(a,b,d))\n",
        "\n",
        "divisor(30,20,10)\n",
        "divisor(32,20,10)\n",
        "divisor(30,22,10)\n",
        "divisor(4,5,6)"
      ],
      "execution_count": null,
      "outputs": [
        {
          "output_type": "stream",
          "text": [
            "30 & 20 are divisible by 10\n",
            "only 20 is divisible by 10\n",
            "only 30 is divisible by 10\n",
            "none of 4 & 5 is divisible by 20\n"
          ],
          "name": "stdout"
        }
      ]
    },
    {
      "cell_type": "markdown",
      "metadata": {
        "id": "KOsQiSXXRG9M"
      },
      "source": [
        "# **#function without parameter**"
      ]
    },
    {
      "cell_type": "code",
      "metadata": {
        "id": "Aa-nb7dMQ2mS",
        "outputId": "7252d660-11b1-46e3-da77-53776e5d2590",
        "colab": {
          "base_uri": "https://localhost:8080/",
          "height": 34
        }
      },
      "source": [
        "def sum():\n",
        "    a = 31 + 81\n",
        "    return a\n",
        "\n",
        "x = sum()\n",
        "print(x)"
      ],
      "execution_count": null,
      "outputs": [
        {
          "output_type": "stream",
          "text": [
            "112\n"
          ],
          "name": "stdout"
        }
      ]
    },
    {
      "cell_type": "markdown",
      "metadata": {
        "id": "CJANtY0XRnaT"
      },
      "source": [
        "# **#function with default parameter value**"
      ]
    },
    {
      "cell_type": "code",
      "metadata": {
        "id": "8hjYWQqGRh6y",
        "outputId": "fae4211a-f7bb-4a04-b586-efff07f00ddd",
        "colab": {
          "base_uri": "https://localhost:8080/",
          "height": 68
        }
      },
      "source": [
        "def check(x=0):\n",
        "    if x==0:\n",
        "        print(\"Zero\")\n",
        "    elif x > 0:\n",
        "        print(\"Positive\")\n",
        "    else:\n",
        "        print(\"Negative\")\n",
        "\n",
        "check(2)\n",
        "check()    \n",
        "check(-4)   \n"
      ],
      "execution_count": null,
      "outputs": [
        {
          "output_type": "stream",
          "text": [
            "Positive\n",
            "Zero\n",
            "Negative\n"
          ],
          "name": "stdout"
        }
      ]
    },
    {
      "cell_type": "markdown",
      "metadata": {
        "id": "UBU8562VSVKN"
      },
      "source": [
        "# **#local scope**"
      ]
    },
    {
      "cell_type": "code",
      "metadata": {
        "id": "CCBJm8xTSEiK",
        "outputId": "0f0545b7-6d44-4a5e-b124-d3bb17e3cbbb",
        "colab": {
          "base_uri": "https://localhost:8080/",
          "height": 51
        }
      },
      "source": [
        "def local_scope():\n",
        "    y = 9\n",
        "    return y\n",
        "\n",
        "a = local_scope()\n",
        "print(a)\n",
        "print(y)"
      ],
      "execution_count": null,
      "outputs": [
        {
          "output_type": "stream",
          "text": [
            "9\n",
            "55\n"
          ],
          "name": "stdout"
        }
      ]
    },
    {
      "cell_type": "markdown",
      "metadata": {
        "id": "8xMPEiHqTfG7"
      },
      "source": [
        "# **#global scope**"
      ]
    },
    {
      "cell_type": "code",
      "metadata": {
        "id": "gkGRhksdTZJ5",
        "outputId": "0b456879-0473-4c0d-afa4-8a0c28d240e2",
        "colab": {
          "base_uri": "https://localhost:8080/",
          "height": 51
        }
      },
      "source": [
        "x = 20\n",
        "\n",
        "def global_scope():\n",
        "    print(x)\n",
        "\n",
        "print(x)\n",
        "global_scope()"
      ],
      "execution_count": null,
      "outputs": [
        {
          "output_type": "stream",
          "text": [
            "20\n",
            "20\n"
          ],
          "name": "stdout"
        }
      ]
    },
    {
      "cell_type": "code",
      "metadata": {
        "id": "8EaP73yiTzbT",
        "outputId": "3f18874a-96f6-40c7-8e55-c62feb875ecf",
        "colab": {
          "base_uri": "https://localhost:8080/",
          "height": 34
        }
      },
      "source": [
        "def global_scope():\n",
        "    global x\n",
        "    x = 30\n",
        "\n",
        "global_scope()\n",
        "print(x)"
      ],
      "execution_count": null,
      "outputs": [
        {
          "output_type": "stream",
          "text": [
            "30\n"
          ],
          "name": "stdout"
        }
      ]
    },
    {
      "cell_type": "code",
      "metadata": {
        "id": "HAByEr_uRj2s",
        "outputId": "d167889c-68a0-498d-b17e-03e35d45f9ec",
        "colab": {
          "base_uri": "https://localhost:8080/",
          "height": 229
        }
      },
      "source": [
        "import csv\n",
        "with open('test.csv',newline='') as csvfile:\n",
        "  tmp = csv.reader(csvfile, delimiter=' ', quotechar='|')\n",
        "  for row in tmp:\n",
        "    print(', '.join(row))"
      ],
      "execution_count": null,
      "outputs": [
        {
          "output_type": "error",
          "ename": "FileNotFoundError",
          "evalue": "ignored",
          "traceback": [
            "\u001b[0;31m---------------------------------------------------------------------------\u001b[0m",
            "\u001b[0;31mFileNotFoundError\u001b[0m                         Traceback (most recent call last)",
            "\u001b[0;32m<ipython-input-1-4102d4aa25a6>\u001b[0m in \u001b[0;36m<module>\u001b[0;34m()\u001b[0m\n\u001b[1;32m      1\u001b[0m \u001b[0;32mimport\u001b[0m \u001b[0mcsv\u001b[0m\u001b[0;34m\u001b[0m\u001b[0;34m\u001b[0m\u001b[0m\n\u001b[0;32m----> 2\u001b[0;31m \u001b[0;32mwith\u001b[0m \u001b[0mopen\u001b[0m\u001b[0;34m(\u001b[0m\u001b[0;34m'test.csv'\u001b[0m\u001b[0;34m,\u001b[0m\u001b[0mnewline\u001b[0m\u001b[0;34m=\u001b[0m\u001b[0;34m''\u001b[0m\u001b[0;34m)\u001b[0m \u001b[0;32mas\u001b[0m \u001b[0mcsvfile\u001b[0m\u001b[0;34m:\u001b[0m\u001b[0;34m\u001b[0m\u001b[0;34m\u001b[0m\u001b[0m\n\u001b[0m\u001b[1;32m      3\u001b[0m   \u001b[0mtmp\u001b[0m \u001b[0;34m=\u001b[0m \u001b[0mcsv\u001b[0m\u001b[0;34m.\u001b[0m\u001b[0mreader\u001b[0m\u001b[0;34m(\u001b[0m\u001b[0mcsvfile\u001b[0m\u001b[0;34m,\u001b[0m \u001b[0mdelimiter\u001b[0m\u001b[0;34m=\u001b[0m\u001b[0;34m' '\u001b[0m\u001b[0;34m,\u001b[0m \u001b[0mquotechar\u001b[0m\u001b[0;34m=\u001b[0m\u001b[0;34m'|'\u001b[0m\u001b[0;34m)\u001b[0m\u001b[0;34m\u001b[0m\u001b[0;34m\u001b[0m\u001b[0m\n\u001b[1;32m      4\u001b[0m   \u001b[0;32mfor\u001b[0m \u001b[0mrow\u001b[0m \u001b[0;32min\u001b[0m \u001b[0mtmp\u001b[0m\u001b[0;34m:\u001b[0m\u001b[0;34m\u001b[0m\u001b[0;34m\u001b[0m\u001b[0m\n\u001b[1;32m      5\u001b[0m     \u001b[0mprint\u001b[0m\u001b[0;34m(\u001b[0m\u001b[0;34m', '\u001b[0m\u001b[0;34m.\u001b[0m\u001b[0mjoin\u001b[0m\u001b[0;34m(\u001b[0m\u001b[0mrow\u001b[0m\u001b[0;34m)\u001b[0m\u001b[0;34m)\u001b[0m\u001b[0;34m\u001b[0m\u001b[0;34m\u001b[0m\u001b[0m\n",
            "\u001b[0;31mFileNotFoundError\u001b[0m: [Errno 2] No such file or directory: 'test.csv'"
          ]
        }
      ]
    },
    {
      "cell_type": "code",
      "metadata": {
        "id": "Na7srVBwUNbj",
        "outputId": "cd9e5ec2-bf44-42f7-8103-03ab0e6d8ec7",
        "colab": {
          "base_uri": "https://localhost:8080/",
          "height": 119
        }
      },
      "source": [
        "import math\n",
        "\n",
        "print(math.pi)          \n",
        "y = 8.2\n",
        "print(math.ceil(y))     \n",
        "print(math.floor(y))    \n",
        "\n",
        "print(math.sin(82))     \n",
        "\n",
        "print(math.pow(2,3))    \n",
        "\n",
        "print(math.sqrt(26))    \n",
        "\n"
      ],
      "execution_count": null,
      "outputs": [
        {
          "output_type": "stream",
          "text": [
            "3.141592653589793\n",
            "9\n",
            "8\n",
            "0.31322878243308516\n",
            "8.0\n",
            "5.0990195135927845\n"
          ],
          "name": "stdout"
        }
      ]
    },
    {
      "cell_type": "code",
      "metadata": {
        "id": "PmWhAbB9LyGj"
      },
      "source": [
        ""
      ],
      "execution_count": null,
      "outputs": []
    }
  ]
}